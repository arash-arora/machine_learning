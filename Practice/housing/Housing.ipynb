{
 "cells": [
  {
   "cell_type": "code",
   "execution_count": 33,
   "id": "65998b7e",
   "metadata": {},
   "outputs": [],
   "source": [
    "import pandas as pd\n",
    "from sklearn.tree import DecisionTreeRegressor as DTR\n",
    "from sklearn.model_selection import train_test_split as tts\n",
    "from sklearn.metrics import mean_absolute_error"
   ]
  },
  {
   "cell_type": "code",
   "execution_count": 20,
   "id": "2b589778",
   "metadata": {},
   "outputs": [
    {
     "data": {
      "text/html": [
       "<div>\n",
       "<style scoped>\n",
       "    .dataframe tbody tr th:only-of-type {\n",
       "        vertical-align: middle;\n",
       "    }\n",
       "\n",
       "    .dataframe tbody tr th {\n",
       "        vertical-align: top;\n",
       "    }\n",
       "\n",
       "    .dataframe thead th {\n",
       "        text-align: right;\n",
       "    }\n",
       "</style>\n",
       "<table border=\"1\" class=\"dataframe\">\n",
       "  <thead>\n",
       "    <tr style=\"text-align: right;\">\n",
       "      <th></th>\n",
       "      <th>price</th>\n",
       "      <th>area</th>\n",
       "      <th>bedrooms</th>\n",
       "      <th>bathrooms</th>\n",
       "      <th>stories</th>\n",
       "      <th>mainroad</th>\n",
       "      <th>guestroom</th>\n",
       "      <th>basement</th>\n",
       "      <th>hotwaterheating</th>\n",
       "      <th>airconditioning</th>\n",
       "      <th>parking</th>\n",
       "      <th>prefarea</th>\n",
       "      <th>furnishingstatus</th>\n",
       "    </tr>\n",
       "  </thead>\n",
       "  <tbody>\n",
       "    <tr>\n",
       "      <th>0</th>\n",
       "      <td>13300000</td>\n",
       "      <td>7420</td>\n",
       "      <td>4</td>\n",
       "      <td>2</td>\n",
       "      <td>3</td>\n",
       "      <td>1</td>\n",
       "      <td>0</td>\n",
       "      <td>0</td>\n",
       "      <td>0</td>\n",
       "      <td>1</td>\n",
       "      <td>2</td>\n",
       "      <td>1</td>\n",
       "      <td>2</td>\n",
       "    </tr>\n",
       "    <tr>\n",
       "      <th>1</th>\n",
       "      <td>12250000</td>\n",
       "      <td>8960</td>\n",
       "      <td>4</td>\n",
       "      <td>4</td>\n",
       "      <td>4</td>\n",
       "      <td>1</td>\n",
       "      <td>0</td>\n",
       "      <td>0</td>\n",
       "      <td>0</td>\n",
       "      <td>1</td>\n",
       "      <td>3</td>\n",
       "      <td>0</td>\n",
       "      <td>2</td>\n",
       "    </tr>\n",
       "    <tr>\n",
       "      <th>2</th>\n",
       "      <td>12250000</td>\n",
       "      <td>9960</td>\n",
       "      <td>3</td>\n",
       "      <td>2</td>\n",
       "      <td>2</td>\n",
       "      <td>1</td>\n",
       "      <td>0</td>\n",
       "      <td>1</td>\n",
       "      <td>0</td>\n",
       "      <td>0</td>\n",
       "      <td>2</td>\n",
       "      <td>1</td>\n",
       "      <td>1</td>\n",
       "    </tr>\n",
       "    <tr>\n",
       "      <th>3</th>\n",
       "      <td>12215000</td>\n",
       "      <td>7500</td>\n",
       "      <td>4</td>\n",
       "      <td>2</td>\n",
       "      <td>2</td>\n",
       "      <td>1</td>\n",
       "      <td>0</td>\n",
       "      <td>1</td>\n",
       "      <td>0</td>\n",
       "      <td>1</td>\n",
       "      <td>3</td>\n",
       "      <td>1</td>\n",
       "      <td>2</td>\n",
       "    </tr>\n",
       "    <tr>\n",
       "      <th>4</th>\n",
       "      <td>11410000</td>\n",
       "      <td>7420</td>\n",
       "      <td>4</td>\n",
       "      <td>1</td>\n",
       "      <td>2</td>\n",
       "      <td>1</td>\n",
       "      <td>1</td>\n",
       "      <td>1</td>\n",
       "      <td>0</td>\n",
       "      <td>1</td>\n",
       "      <td>2</td>\n",
       "      <td>0</td>\n",
       "      <td>2</td>\n",
       "    </tr>\n",
       "  </tbody>\n",
       "</table>\n",
       "</div>"
      ],
      "text/plain": [
       "      price  area  bedrooms  bathrooms  stories  mainroad  guestroom  \\\n",
       "0  13300000  7420         4          2        3         1          0   \n",
       "1  12250000  8960         4          4        4         1          0   \n",
       "2  12250000  9960         3          2        2         1          0   \n",
       "3  12215000  7500         4          2        2         1          0   \n",
       "4  11410000  7420         4          1        2         1          1   \n",
       "\n",
       "   basement  hotwaterheating  airconditioning  parking  prefarea  \\\n",
       "0         0                0                1        2         1   \n",
       "1         0                0                1        3         0   \n",
       "2         1                0                0        2         1   \n",
       "3         1                0                1        3         1   \n",
       "4         1                0                1        2         0   \n",
       "\n",
       "   furnishingstatus  \n",
       "0                 2  \n",
       "1                 2  \n",
       "2                 1  \n",
       "3                 2  \n",
       "4                 2  "
      ]
     },
     "execution_count": 20,
     "metadata": {},
     "output_type": "execute_result"
    }
   ],
   "source": [
    "house_data = pd.read_csv(\"Housing.csv\")\n",
    "house_data.head()"
   ]
  },
  {
   "cell_type": "code",
   "execution_count": 21,
   "id": "907ddf39",
   "metadata": {},
   "outputs": [
    {
     "data": {
      "text/plain": [
       "0      13300000\n",
       "1      12250000\n",
       "2      12250000\n",
       "3      12215000\n",
       "4      11410000\n",
       "         ...   \n",
       "540     1820000\n",
       "541     1767150\n",
       "542     1750000\n",
       "543     1750000\n",
       "544     1750000\n",
       "Name: price, Length: 545, dtype: int64"
      ]
     },
     "execution_count": 21,
     "metadata": {},
     "output_type": "execute_result"
    }
   ],
   "source": [
    "y = house_data.price\n",
    "y"
   ]
  },
  {
   "cell_type": "code",
   "execution_count": 22,
   "id": "c2f824cd",
   "metadata": {},
   "outputs": [
    {
     "data": {
      "text/plain": [
       "Index(['price', 'area', 'bedrooms', 'bathrooms', 'stories', 'mainroad',\n",
       "       'guestroom', 'basement', 'hotwaterheating', 'airconditioning',\n",
       "       'parking', 'prefarea', 'furnishingstatus'],\n",
       "      dtype='object')"
      ]
     },
     "execution_count": 22,
     "metadata": {},
     "output_type": "execute_result"
    }
   ],
   "source": [
    "house_data.columns"
   ]
  },
  {
   "cell_type": "code",
   "execution_count": 41,
   "id": "86a90c5a",
   "metadata": {
    "scrolled": true
   },
   "outputs": [
    {
     "data": {
      "text/html": [
       "<div>\n",
       "<style scoped>\n",
       "    .dataframe tbody tr th:only-of-type {\n",
       "        vertical-align: middle;\n",
       "    }\n",
       "\n",
       "    .dataframe tbody tr th {\n",
       "        vertical-align: top;\n",
       "    }\n",
       "\n",
       "    .dataframe thead th {\n",
       "        text-align: right;\n",
       "    }\n",
       "</style>\n",
       "<table border=\"1\" class=\"dataframe\">\n",
       "  <thead>\n",
       "    <tr style=\"text-align: right;\">\n",
       "      <th></th>\n",
       "      <th>area</th>\n",
       "      <th>bedrooms</th>\n",
       "      <th>bathrooms</th>\n",
       "      <th>stories</th>\n",
       "      <th>mainroad</th>\n",
       "      <th>guestroom</th>\n",
       "      <th>basement</th>\n",
       "      <th>hotwaterheating</th>\n",
       "      <th>airconditioning</th>\n",
       "      <th>parking</th>\n",
       "      <th>prefarea</th>\n",
       "      <th>furnishingstatus</th>\n",
       "    </tr>\n",
       "  </thead>\n",
       "  <tbody>\n",
       "    <tr>\n",
       "      <th>0</th>\n",
       "      <td>7420</td>\n",
       "      <td>4</td>\n",
       "      <td>2</td>\n",
       "      <td>3</td>\n",
       "      <td>1</td>\n",
       "      <td>0</td>\n",
       "      <td>0</td>\n",
       "      <td>0</td>\n",
       "      <td>1</td>\n",
       "      <td>2</td>\n",
       "      <td>1</td>\n",
       "      <td>2</td>\n",
       "    </tr>\n",
       "    <tr>\n",
       "      <th>1</th>\n",
       "      <td>8960</td>\n",
       "      <td>4</td>\n",
       "      <td>4</td>\n",
       "      <td>4</td>\n",
       "      <td>1</td>\n",
       "      <td>0</td>\n",
       "      <td>0</td>\n",
       "      <td>0</td>\n",
       "      <td>1</td>\n",
       "      <td>3</td>\n",
       "      <td>0</td>\n",
       "      <td>2</td>\n",
       "    </tr>\n",
       "    <tr>\n",
       "      <th>2</th>\n",
       "      <td>9960</td>\n",
       "      <td>3</td>\n",
       "      <td>2</td>\n",
       "      <td>2</td>\n",
       "      <td>1</td>\n",
       "      <td>0</td>\n",
       "      <td>1</td>\n",
       "      <td>0</td>\n",
       "      <td>0</td>\n",
       "      <td>2</td>\n",
       "      <td>1</td>\n",
       "      <td>1</td>\n",
       "    </tr>\n",
       "    <tr>\n",
       "      <th>3</th>\n",
       "      <td>7500</td>\n",
       "      <td>4</td>\n",
       "      <td>2</td>\n",
       "      <td>2</td>\n",
       "      <td>1</td>\n",
       "      <td>0</td>\n",
       "      <td>1</td>\n",
       "      <td>0</td>\n",
       "      <td>1</td>\n",
       "      <td>3</td>\n",
       "      <td>1</td>\n",
       "      <td>2</td>\n",
       "    </tr>\n",
       "    <tr>\n",
       "      <th>4</th>\n",
       "      <td>7420</td>\n",
       "      <td>4</td>\n",
       "      <td>1</td>\n",
       "      <td>2</td>\n",
       "      <td>1</td>\n",
       "      <td>1</td>\n",
       "      <td>1</td>\n",
       "      <td>0</td>\n",
       "      <td>1</td>\n",
       "      <td>2</td>\n",
       "      <td>0</td>\n",
       "      <td>2</td>\n",
       "    </tr>\n",
       "  </tbody>\n",
       "</table>\n",
       "</div>"
      ],
      "text/plain": [
       "   area  bedrooms  bathrooms  stories  mainroad  guestroom  basement  \\\n",
       "0  7420         4          2        3         1          0         0   \n",
       "1  8960         4          4        4         1          0         0   \n",
       "2  9960         3          2        2         1          0         1   \n",
       "3  7500         4          2        2         1          0         1   \n",
       "4  7420         4          1        2         1          1         1   \n",
       "\n",
       "   hotwaterheating  airconditioning  parking  prefarea  furnishingstatus  \n",
       "0                0                1        2         1                 2  \n",
       "1                0                1        3         0                 2  \n",
       "2                0                0        2         1                 1  \n",
       "3                0                1        3         1                 2  \n",
       "4                0                1        2         0                 2  "
      ]
     },
     "execution_count": 41,
     "metadata": {},
     "output_type": "execute_result"
    }
   ],
   "source": [
    "features = ['area', 'bedrooms', 'bathrooms', 'stories', 'mainroad','guestroom', 'basement', 'hotwaterheating', 'airconditioning','parking', 'prefarea', 'furnishingstatus']\n",
    "X = house_data[features]\n",
    "X.head()"
   ]
  },
  {
   "cell_type": "code",
   "execution_count": 61,
   "id": "35d76b00",
   "metadata": {},
   "outputs": [
    {
     "name": "stdout",
     "output_type": "stream",
     "text": [
      "{5: 1065059.2247578695, 25: 960603.8492883168, 50: 926163.9924369061, 75: 1002276.3043828676, 100: 1019723.0810827027, 500: 1102189.3430656935, 1000: 1102189.3430656935, 1500: 1102189.3430656935, 2000: 1102189.3430656935}\n",
      "50\n"
     ]
    }
   ],
   "source": [
    "def best_tree_depth(max_nodes, train_X, val_X, train_y, val_y):\n",
    "    house_model = DTR(max_leaf_nodes=max_nodes, random_state=1)\n",
    "    house_model.fit(train_X, train_y)\n",
    "    predictions = house_model.predict(val_X)\n",
    "    return [mean_absolute_error(val_y, predictions), predictions]\n",
    "train_X, val_X, train_y, val_y = tts(X, y, random_state=1)\n",
    "trees = [5, 25, 50, 75, 100, 500, 1000, 1500, 2000]\n",
    "trees_depth = {}\n",
    "for tree in trees:\n",
    "    depth = best_tree_depth(tree, train_X, val_X, train_y, val_y)\n",
    "    trees_depth[tree] = depth[0]\n",
    "print(trees_depth)\n",
    "print(min(trees_depth, key=trees_depth.get))"
   ]
  },
  {
   "cell_type": "code",
   "execution_count": 62,
   "id": "c1bd4038",
   "metadata": {},
   "outputs": [
    {
     "data": {
      "text/plain": [
       "[926163.9924369061,\n",
       " array([7050615.38461538, 6088250.        , 7050615.38461538,\n",
       "        5899250.        , 4300578.94736842, 3822700.        ,\n",
       "        2884456.52173913, 6088250.        , 2856000.        ,\n",
       "        4473466.66666667, 3699888.88888889, 3374233.33333333,\n",
       "        3374233.33333333, 3822700.        , 8680000.        ,\n",
       "        7794420.        , 3698692.30769231, 7313833.33333333,\n",
       "        5624062.5       , 2884456.52173913, 3822700.        ,\n",
       "        4662000.        , 4217500.        , 3668913.04347826,\n",
       "        4982600.        , 5899250.        , 2884456.52173913,\n",
       "        7182000.        , 5939500.        , 3668913.04347826,\n",
       "        7050615.38461538, 7050615.38461538, 4217500.        ,\n",
       "        4606350.        , 6088250.        , 3668913.04347826,\n",
       "        4982600.        , 2884456.52173913, 4473466.66666667,\n",
       "        4594333.33333333, 3140666.66666667, 3822700.        ,\n",
       "        3699888.88888889, 4473466.66666667, 8771000.        ,\n",
       "        4606350.        , 4606350.        , 3140666.66666667,\n",
       "        2884456.52173913, 2884456.52173913, 4217500.        ,\n",
       "        3668913.04347826, 2884456.52173913, 4473466.66666667,\n",
       "        4300578.94736842, 4606350.        , 3668913.04347826,\n",
       "        4473466.66666667, 5821666.66666667, 5821666.66666667,\n",
       "        7050615.38461538, 6088250.        , 2884456.52173913,\n",
       "        4473466.66666667, 4606350.        , 2884456.52173913,\n",
       "        4594333.33333333, 2884456.52173913, 4982600.        ,\n",
       "        4747555.55555556, 4606350.        , 5899250.        ,\n",
       "        5939500.        , 2884456.52173913, 7313833.33333333,\n",
       "        3668913.04347826, 3699888.88888889, 8771000.        ,\n",
       "        5899250.        , 3822700.        , 4594333.33333333,\n",
       "        6107500.        , 7050615.38461538, 5624062.5       ,\n",
       "        6088250.        , 5939500.        , 3699888.88888889,\n",
       "        2884456.52173913, 4606350.        , 2884456.52173913,\n",
       "        3374233.33333333, 4473466.66666667, 2884456.52173913,\n",
       "        7794420.        , 3374233.33333333, 4606350.        ,\n",
       "        9542750.        , 3374233.33333333, 4739000.        ,\n",
       "        9240000.        , 3822700.        , 7794420.        ,\n",
       "        3668913.04347826, 3822700.        , 4606350.        ,\n",
       "        8610000.        , 9800000.        , 4300578.94736842,\n",
       "        4594333.33333333, 4606350.        , 5899250.        ,\n",
       "        4606350.        , 3374233.33333333, 2884456.52173913,\n",
       "        4300578.94736842, 3822700.        , 3822700.        ,\n",
       "        5939500.        , 5899250.        , 7182000.        ,\n",
       "        7050615.38461538, 3668913.04347826, 2884456.52173913,\n",
       "        4606350.        , 2884456.52173913, 4473466.66666667,\n",
       "        3437777.77777778, 5939500.        , 3699888.88888889,\n",
       "        3822700.        , 2884456.52173913, 4473466.66666667,\n",
       "        3822700.        , 3668913.04347826, 5899250.        ,\n",
       "        3822700.        , 4217500.        ])]"
      ]
     },
     "execution_count": 62,
     "metadata": {},
     "output_type": "execute_result"
    }
   ],
   "source": [
    "best_tree_depth(50, train_X, val_X, train_y, val_y)"
   ]
  },
  {
   "cell_type": "code",
   "execution_count": 63,
   "id": "64ca18da",
   "metadata": {},
   "outputs": [],
   "source": [
    "from sklearn.ensemble import RandomForestRegressor"
   ]
  },
  {
   "cell_type": "code",
   "execution_count": 64,
   "id": "6b5f4614",
   "metadata": {},
   "outputs": [],
   "source": [
    "house_model_rf = RandomForestRegressor(random_state=1)"
   ]
  },
  {
   "cell_type": "code",
   "execution_count": 65,
   "id": "4c6bc017",
   "metadata": {},
   "outputs": [
    {
     "name": "stdout",
     "output_type": "stream",
     "text": [
      "[7459159.4        5725580.         7825790.         6182050.\n",
      " 4278610.         3396575.         2833600.         5659319.4\n",
      " 2890534.5        4646250.         3589880.         3111710.\n",
      " 4520390.         4069345.         6944309.4        7983455.2\n",
      " 4300450.         4371255.         6019335.         2628430.\n",
      " 3965220.         4864790.         4698680.         3386600.\n",
      " 5265365.         6967135.         2630600.         7762924.4\n",
      " 6901300.         3570248.5        6804688.8        6796522.6\n",
      " 3932040.         4391415.         5333084.4        3949820.\n",
      " 6258560.         2711030.         5115600.         5595450.\n",
      " 4827445.         3452540.         3422440.         4708305.\n",
      " 6641460.         3475010.         5219480.         3039960.\n",
      " 2764324.5        2281300.         4405065.         4017895.\n",
      " 2503445.         3836490.         4674530.         4471460.\n",
      " 3090080.         4424070.         4512480.         4910920.\n",
      " 6724900.         5698589.4        2511950.         4476360.\n",
      " 4443635.         2220330.         4717510.         3071110.\n",
      " 4493650.         4221560.         5230120.         5707940.\n",
      " 5819940.         2362290.         5632095.         3525935.\n",
      " 3413200.         7249935.         5649700.         3431858.5\n",
      " 4666900.         4600575.         7658840.         5927005.\n",
      " 5773810.         5200230.         3519880.         2749950.\n",
      " 5339390.         3663940.         3329372.66666667 5403195.\n",
      " 2825970.         7692980.4        3201310.         4766510.\n",
      " 8392230.         4174240.         4742290.         5860260.\n",
      " 3459890.         8188793.2        4110400.         3890180.\n",
      " 4427220.         7576450.         6660010.         4112780.\n",
      " 5314750.         5522650.         5850180.         3602258.33333333\n",
      " 2788170.         2938390.         3938900.         3852625.\n",
      " 4050515.         6557215.         5125680.         7428190.\n",
      " 7373549.4        3604776.         2425150.         4518920.\n",
      " 3179400.         4143650.         4532570.         6876380.\n",
      " 3591175.         3936765.         3013920.         5471060.\n",
      " 3660037.5        3503818.5        5818190.         3481450.\n",
      " 5079410.        ]\n"
     ]
    }
   ],
   "source": [
    "house_model_rf.fit(train_X, train_y)\n",
    "predictions1 = house_model_rf.predict(val_X)\n",
    "print(predictions1)"
   ]
  },
  {
   "cell_type": "code",
   "execution_count": 60,
   "id": "ce43bcfa",
   "metadata": {},
   "outputs": [
    {
     "data": {
      "text/plain": [
       "870579.2462287105"
      ]
     },
     "execution_count": 60,
     "metadata": {},
     "output_type": "execute_result"
    }
   ],
   "source": [
    "mean_absolute_error(val_y, predictions1)"
   ]
  },
  {
   "cell_type": "code",
   "execution_count": null,
   "id": "5b64921f",
   "metadata": {},
   "outputs": [],
   "source": []
  }
 ],
 "metadata": {
  "kernelspec": {
   "display_name": "Python 3 (ipykernel)",
   "language": "python",
   "name": "python3"
  },
  "language_info": {
   "codemirror_mode": {
    "name": "ipython",
    "version": 3
   },
   "file_extension": ".py",
   "mimetype": "text/x-python",
   "name": "python",
   "nbconvert_exporter": "python",
   "pygments_lexer": "ipython3",
   "version": "3.9.15"
  }
 },
 "nbformat": 4,
 "nbformat_minor": 5
}
